{
  "nbformat": 4,
  "nbformat_minor": 0,
  "metadata": {
    "colab": {
      "provenance": [],
      "include_colab_link": true
    },
    "kernelspec": {
      "name": "python3",
      "display_name": "Python 3"
    },
    "language_info": {
      "name": "python"
    }
  },
  "cells": [
    {
      "cell_type": "markdown",
      "metadata": {
        "id": "view-in-github",
        "colab_type": "text"
      },
      "source": [
        "<a href=\"https://colab.research.google.com/github/cncode-tech/Algo_smt2/blob/main/Tugas_2_Algo-smt2.ipynb\" target=\"_parent\"><img src=\"https://colab.research.google.com/assets/colab-badge.svg\" alt=\"Open In Colab\"/></a>"
      ]
    },
    {
      "cell_type": "code",
      "execution_count": null,
      "metadata": {
        "colab": {
          "base_uri": "https://localhost:8080/"
        },
        "id": "UF9x7m4SFBQl",
        "outputId": "fc5cdc1e-c280-4227-ce69-beab932c0dc9"
      },
      "outputs": [
        {
          "output_type": "stream",
          "name": "stdout",
          "text": [
            "Masukkan golongan karyawan (A/B/C): B\n",
            "Masukkan jumlah jam lembur: 3\n",
            "\n",
            "=== Hasil Perhitungan Gaji Karyawan ===\n",
            "Golongan Karyawan   : B\n",
            "Gaji Pokok          : Rp6,500,000\n",
            "Jam Lembur          : 3\n",
            "Gaji Lembur         : Rp2,210,000\n",
            "Jumlah Penghasilan  : Rp8,710,000\n"
          ]
        }
      ],
      "source": [
        "# Input Golongan Karyawan\n",
        "golongan = input(\"Masukkan golongan karyawan (A/B/C): \").upper()\n",
        "# Input Jam Lembur\n",
        "jam_lembur = int(input(\"Masukkan jumlah jam lembur: \"))\n",
        "\n",
        "# Tentukan Gaji Pokok Berdasarkan Golongan\n",
        "if golongan == \"A\":\n",
        "    gaji_pokok = 5000000\n",
        "elif golongan == \"B\":\n",
        "    gaji_pokok = 6500000\n",
        "elif golongan == \"C\":\n",
        "    gaji_pokok = 9500000\n",
        "else:\n",
        "    print(\"Golongan tidak valid!\")\n",
        "    gaji_pokok = 0\n",
        "\n",
        "# Hitung Gaji Lembur Berdasarkan Jam Lembur\n",
        "if jam_lembur == 1:\n",
        "    gaji_lembur = 0.30 * gaji_pokok\n",
        "elif jam_lembur == 2:\n",
        "    gaji_lembur = 0.32 * gaji_pokok\n",
        "elif jam_lembur == 3:\n",
        "    gaji_lembur = 0.34 * gaji_pokok\n",
        "elif jam_lembur == 4:\n",
        "    gaji_lembur = 0.36 * gaji_pokok\n",
        "elif jam_lembur >= 5:\n",
        "    gaji_lembur = 0.38 * gaji_pokok\n",
        "else:\n",
        "    gaji_lembur = 0\n",
        "\n",
        "# Hitung Jumlah Penghasilan\n",
        "jumlah_penghasilan = gaji_pokok + gaji_lembur\n",
        "\n",
        "# Tampilkan Hasil\n",
        "print(\"\\n=== Hasil Perhitungan Gaji Karyawan ===\")\n",
        "print(\"Golongan Karyawan   :\", golongan)\n",
        "print(\"Gaji Pokok          : Rp{:,.0f}\".format(gaji_pokok))\n",
        "print(\"Jam Lembur          :\", jam_lembur)\n",
        "print(\"Gaji Lembur         : Rp{:,.0f}\".format(gaji_lembur))\n",
        "print(\"Jumlah Penghasilan  : Rp{:,.0f}\".format(jumlah_penghasilan))\n"
      ]
    }
  ]
}